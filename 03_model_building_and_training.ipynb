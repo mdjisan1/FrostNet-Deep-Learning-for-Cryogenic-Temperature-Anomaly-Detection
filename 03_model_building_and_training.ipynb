{
 "cells": [
  {
   "cell_type": "code",
   "execution_count": 2,
   "id": "ac5d1490-7ca2-46f2-8050-46f7f0361208",
   "metadata": {},
   "outputs": [
    {
     "name": "stdout",
     "output_type": "stream",
     "text": [
      "Collecting torch\n",
      "  Downloading torch-2.7.0-cp310-cp310-win_amd64.whl (212.5 MB)\n",
      "     -------------------------------------- 212.5/212.5 MB 1.1 MB/s eta 0:00:00\n",
      "Requirement already satisfied: filelock in c:\\users\\jisan\\anaconda3\\lib\\site-packages (from torch) (3.13.1)\n",
      "Collecting sympy>=1.13.3\n",
      "  Downloading sympy-1.14.0-py3-none-any.whl (6.3 MB)\n",
      "     ---------------------------------------- 6.3/6.3 MB 1.4 MB/s eta 0:00:00\n",
      "Collecting fsspec\n",
      "  Downloading fsspec-2025.3.2-py3-none-any.whl (194 kB)\n",
      "     -------------------------------------- 194.4/194.4 kB 1.7 MB/s eta 0:00:00\n",
      "Requirement already satisfied: typing-extensions>=4.10.0 in c:\\users\\jisan\\anaconda3\\lib\\site-packages (from torch) (4.11.0)\n",
      "Requirement already satisfied: networkx in c:\\users\\jisan\\anaconda3\\lib\\site-packages (from torch) (3.3)\n",
      "Requirement already satisfied: jinja2 in c:\\users\\jisan\\anaconda3\\lib\\site-packages (from torch) (3.1.4)\n",
      "Collecting mpmath<1.4,>=1.1.0\n",
      "  Downloading mpmath-1.3.0-py3-none-any.whl (536 kB)\n",
      "     -------------------------------------- 536.2/536.2 kB 1.6 MB/s eta 0:00:00\n",
      "Requirement already satisfied: MarkupSafe>=2.0 in c:\\users\\jisan\\anaconda3\\lib\\site-packages (from jinja2->torch) (2.1.3)\n",
      "Installing collected packages: mpmath, sympy, fsspec, torch\n",
      "Successfully installed fsspec-2025.3.2 mpmath-1.3.0 sympy-1.14.0 torch-2.7.0\n"
     ]
    }
   ],
   "source": [
    "!pip install torch"
   ]
  },
  {
   "cell_type": "code",
   "execution_count": 4,
   "id": "c8927836-3563-4470-96a5-d492d93aa4cc",
   "metadata": {},
   "outputs": [],
   "source": [
    "# Import necessary libraries\n",
    "import pandas as pd\n",
    "import numpy as np\n",
    "import torch\n",
    "import torch.nn as nn\n",
    "from torch.utils.data import DataLoader, Dataset, random_split\n",
    "import matplotlib.pyplot as plt"
   ]
  },
  {
   "cell_type": "code",
   "execution_count": 5,
   "id": "174e82cb-8cc3-4145-bac7-ea09dd33eb18",
   "metadata": {},
   "outputs": [
    {
     "name": "stdout",
     "output_type": "stream",
     "text": [
      "Using device: cpu\n"
     ]
    }
   ],
   "source": [
    "# Check for GPU\n",
    "device = torch.device('cuda' if torch.cuda.is_available() else 'cpu')\n",
    "print(f\"Using device: {device}\")"
   ]
  },
  {
   "cell_type": "code",
   "execution_count": 6,
   "id": "fd92b3bd-0ade-414f-9257-4d2dc5ca9dc0",
   "metadata": {},
   "outputs": [],
   "source": [
    "# Load preprocessed data\n",
    "df = pd.read_csv('data/cryogenic_synthetic_preprocessed.csv', parse_dates=['Timestamp'])"
   ]
  },
  {
   "cell_type": "code",
   "execution_count": 7,
   "id": "210f4c4f-693c-4a84-bb68-f33c7814cd90",
   "metadata": {},
   "outputs": [
    {
     "data": {
      "text/html": [
       "<div>\n",
       "<style scoped>\n",
       "    .dataframe tbody tr th:only-of-type {\n",
       "        vertical-align: middle;\n",
       "    }\n",
       "\n",
       "    .dataframe tbody tr th {\n",
       "        vertical-align: top;\n",
       "    }\n",
       "\n",
       "    .dataframe thead th {\n",
       "        text-align: right;\n",
       "    }\n",
       "</style>\n",
       "<table border=\"1\" class=\"dataframe\">\n",
       "  <thead>\n",
       "    <tr style=\"text-align: right;\">\n",
       "      <th></th>\n",
       "      <th>Timestamp</th>\n",
       "      <th>Temperature (°C)</th>\n",
       "      <th>Anomaly</th>\n",
       "    </tr>\n",
       "  </thead>\n",
       "  <tbody>\n",
       "    <tr>\n",
       "      <th>0</th>\n",
       "      <td>2025-01-01 00:00:00</td>\n",
       "      <td>-0.101215</td>\n",
       "      <td>0</td>\n",
       "    </tr>\n",
       "    <tr>\n",
       "      <th>1</th>\n",
       "      <td>2025-01-01 00:01:00</td>\n",
       "      <td>-0.093341</td>\n",
       "      <td>0</td>\n",
       "    </tr>\n",
       "    <tr>\n",
       "      <th>2</th>\n",
       "      <td>2025-01-01 00:02:00</td>\n",
       "      <td>-0.060059</td>\n",
       "      <td>0</td>\n",
       "    </tr>\n",
       "    <tr>\n",
       "      <th>3</th>\n",
       "      <td>2025-01-01 00:03:00</td>\n",
       "      <td>0.050599</td>\n",
       "      <td>0</td>\n",
       "    </tr>\n",
       "    <tr>\n",
       "      <th>4</th>\n",
       "      <td>2025-01-01 00:04:00</td>\n",
       "      <td>-0.089648</td>\n",
       "      <td>0</td>\n",
       "    </tr>\n",
       "  </tbody>\n",
       "</table>\n",
       "</div>"
      ],
      "text/plain": [
       "            Timestamp  Temperature (°C)  Anomaly\n",
       "0 2025-01-01 00:00:00         -0.101215        0\n",
       "1 2025-01-01 00:01:00         -0.093341        0\n",
       "2 2025-01-01 00:02:00         -0.060059        0\n",
       "3 2025-01-01 00:03:00          0.050599        0\n",
       "4 2025-01-01 00:04:00         -0.089648        0"
      ]
     },
     "execution_count": 7,
     "metadata": {},
     "output_type": "execute_result"
    }
   ],
   "source": [
    "df.head()"
   ]
  },
  {
   "cell_type": "code",
   "execution_count": 8,
   "id": "b1786d12-45cf-4731-ad26-fcd7f0384cf7",
   "metadata": {},
   "outputs": [],
   "source": [
    "# Prepare sequences for LSTM input\n",
    "class CryogenicDataset(Dataset):\n",
    "    def __init__(self, data, seq_length=30):\n",
    "        self.seq_length = seq_length\n",
    "        self.X = []\n",
    "        self.y = []\n",
    "        temperatures = data['Temperature (\\u00b0C)'].values\n",
    "        for i in range(len(temperatures) - seq_length):\n",
    "            self.X.append(temperatures[i:i+seq_length])\n",
    "            self.y.append(temperatures[i:i+seq_length])  # Autoencoder tries to reconstruct\n",
    "\n",
    "        self.X = torch.tensor(self.X, dtype=torch.float32)\n",
    "        self.y = torch.tensor(self.y, dtype=torch.float32)\n",
    "\n",
    "    def __len__(self):\n",
    "        return len(self.X)\n",
    "\n",
    "    def __getitem__(self, idx):\n",
    "        return self.X[idx], self.y[idx]\n"
   ]
  },
  {
   "cell_type": "code",
   "execution_count": 9,
   "id": "ff846901-439b-4605-9cfd-cc1dcfed4c23",
   "metadata": {},
   "outputs": [
    {
     "name": "stderr",
     "output_type": "stream",
     "text": [
      "C:\\Users\\Jisan\\AppData\\Local\\Temp\\ipykernel_17080\\3743446356.py:12: UserWarning: Creating a tensor from a list of numpy.ndarrays is extremely slow. Please consider converting the list to a single numpy.ndarray with numpy.array() before converting to a tensor. (Triggered internally at C:\\actions-runner\\_work\\pytorch\\pytorch\\pytorch\\torch\\csrc\\utils\\tensor_new.cpp:257.)\n",
      "  self.X = torch.tensor(self.X, dtype=torch.float32)\n"
     ]
    }
   ],
   "source": [
    "# Create dataset\n",
    "dataset = CryogenicDataset(df, seq_length=30)"
   ]
  },
  {
   "cell_type": "code",
   "execution_count": 10,
   "id": "fd61bf25-a83a-42fc-8245-146ddc1235c7",
   "metadata": {},
   "outputs": [],
   "source": [
    "# Train/Test split\n",
    "train_size = int(0.8 * len(dataset))\n",
    "test_size = len(dataset) - train_size\n",
    "train_dataset, test_dataset = random_split(dataset, [train_size, test_size])\n",
    "\n",
    "train_loader = DataLoader(train_dataset, batch_size=64, shuffle=True)\n",
    "test_loader = DataLoader(test_dataset, batch_size=64, shuffle=False)"
   ]
  },
  {
   "cell_type": "code",
   "execution_count": 11,
   "id": "2234a671-23fa-40ec-b464-4108639d62e3",
   "metadata": {},
   "outputs": [],
   "source": [
    "# Define LSTM Autoencoder model\n",
    "class LSTMAutoencoder(nn.Module):\n",
    "    def __init__(self, seq_len, n_features, embedding_dim=64):\n",
    "        super(LSTMAutoencoder, self).__init__()\n",
    "        self.encoder = nn.LSTM(\n",
    "            input_size=n_features, hidden_size=embedding_dim, num_layers=1, batch_first=True\n",
    "        )\n",
    "        self.decoder = nn.LSTM(\n",
    "            input_size=embedding_dim, hidden_size=n_features, num_layers=1, batch_first=True\n",
    "        )\n",
    "\n",
    "    def forward(self, x):\n",
    "        x = x.unsqueeze(-1)  # (batch_size, seq_len, features)\n",
    "        encoded, _ = self.encoder(x)\n",
    "        decoded, _ = self.decoder(encoded)\n",
    "        decoded = decoded.squeeze(-1)\n",
    "        return decoded"
   ]
  },
  {
   "cell_type": "code",
   "execution_count": 12,
   "id": "369239ae-8c38-44a2-87d1-7d9c207dc057",
   "metadata": {},
   "outputs": [],
   "source": [
    "# Initialize model\n",
    "model = LSTMAutoencoder(seq_len=30, n_features=1, embedding_dim=64)\n",
    "model = model.to(device)"
   ]
  },
  {
   "cell_type": "code",
   "execution_count": 13,
   "id": "65f7e49d-076d-4df9-a5eb-804da708696a",
   "metadata": {},
   "outputs": [],
   "source": [
    "# Loss and Optimizer\n",
    "criterion = nn.MSELoss()\n",
    "optimizer = torch.optim.Adam(model.parameters(), lr=0.001)"
   ]
  },
  {
   "cell_type": "code",
   "execution_count": 14,
   "id": "e978d66b-a6c5-4532-b09c-edbeca8447f5",
   "metadata": {},
   "outputs": [
    {
     "name": "stdout",
     "output_type": "stream",
     "text": [
      "Epoch 1: Train Loss = 0.947726, Test Loss = 1.139016\n",
      "Epoch 2: Train Loss = 0.914826, Test Loss = 1.137285\n",
      "Epoch 3: Train Loss = 0.913620, Test Loss = 1.136609\n",
      "Epoch 4: Train Loss = 0.912959, Test Loss = 1.136212\n",
      "Epoch 5: Train Loss = 0.912557, Test Loss = 1.135933\n",
      "Epoch 6: Train Loss = 0.914223, Test Loss = 1.135739\n",
      "Epoch 7: Train Loss = 0.914029, Test Loss = 1.135592\n",
      "Epoch 8: Train Loss = 0.914758, Test Loss = 1.135484\n",
      "Epoch 9: Train Loss = 0.914685, Test Loss = 1.135399\n",
      "Epoch 10: Train Loss = 0.911771, Test Loss = 1.135329\n",
      "Epoch 11: Train Loss = 0.913935, Test Loss = 1.135275\n",
      "Epoch 12: Train Loss = 0.913548, Test Loss = 1.135232\n",
      "Epoch 13: Train Loss = 0.913517, Test Loss = 1.135199\n",
      "Epoch 14: Train Loss = 0.913465, Test Loss = 1.135169\n",
      "Epoch 15: Train Loss = 0.914370, Test Loss = 1.135145\n",
      "Epoch 16: Train Loss = 0.916233, Test Loss = 1.135122\n",
      "Epoch 17: Train Loss = 0.914268, Test Loss = 1.135100\n",
      "Epoch 18: Train Loss = 0.913825, Test Loss = 1.135080\n",
      "Epoch 19: Train Loss = 0.911395, Test Loss = 1.135059\n",
      "Epoch 20: Train Loss = 0.911394, Test Loss = 1.135036\n",
      "Epoch 21: Train Loss = 0.910899, Test Loss = 1.133023\n",
      "Epoch 22: Train Loss = 0.911193, Test Loss = 1.132925\n",
      "Epoch 23: Train Loss = 0.911884, Test Loss = 1.132635\n",
      "Epoch 24: Train Loss = 0.912569, Test Loss = 1.125655\n",
      "Epoch 25: Train Loss = 0.910501, Test Loss = 1.125465\n",
      "Epoch 26: Train Loss = 0.902311, Test Loss = 1.125243\n",
      "Epoch 27: Train Loss = 0.906925, Test Loss = 1.125122\n",
      "Epoch 28: Train Loss = 0.904016, Test Loss = 1.125056\n",
      "Epoch 29: Train Loss = 0.903938, Test Loss = 1.125012\n",
      "Epoch 30: Train Loss = 0.911250, Test Loss = 1.124975\n"
     ]
    }
   ],
   "source": [
    "# Training the model\n",
    "n_epochs = 30\n",
    "train_losses = []\n",
    "test_losses = []\n",
    "\n",
    "for epoch in range(1, n_epochs+1):\n",
    "    model.train()\n",
    "    train_loss = 0\n",
    "    for batch_X, batch_y in train_loader:\n",
    "        batch_X, batch_y = batch_X.to(device), batch_y.to(device)\n",
    "\n",
    "        optimizer.zero_grad()\n",
    "        output = model(batch_X)\n",
    "        loss = criterion(output, batch_y)\n",
    "        loss.backward()\n",
    "        optimizer.step()\n",
    "\n",
    "        train_loss += loss.item()\n",
    "\n",
    "    train_loss /= len(train_loader)\n",
    "    train_losses.append(train_loss)\n",
    "\n",
    "    model.eval()\n",
    "    test_loss = 0\n",
    "    with torch.no_grad():\n",
    "        for batch_X, batch_y in test_loader:\n",
    "            batch_X, batch_y = batch_X.to(device), batch_y.to(device)\n",
    "            output = model(batch_X)\n",
    "            loss = criterion(output, batch_y)\n",
    "            test_loss += loss.item()\n",
    "\n",
    "    test_loss /= len(test_loader)\n",
    "    test_losses.append(test_loss)\n",
    "\n",
    "    print(f\"Epoch {epoch}: Train Loss = {train_loss:.6f}, Test Loss = {test_loss:.6f}\")"
   ]
  },
  {
   "cell_type": "code",
   "execution_count": 15,
   "id": "119e579d-64cd-4f0a-a034-5324dec5d0ff",
   "metadata": {},
   "outputs": [
    {
     "name": "stdout",
     "output_type": "stream",
     "text": [
      "\n",
      "✅ Model saved successfully!\n"
     ]
    }
   ],
   "source": [
    "# Save model checkpoint\n",
    "torch.save(model.state_dict(), 'outputs/frostnet_lstm_autoencoder.pth')\n",
    "print(\"\\n✅ Model saved successfully!\")"
   ]
  },
  {
   "cell_type": "code",
   "execution_count": 16,
   "id": "27ce313f-f30a-4172-9d9a-f1e7336b113e",
   "metadata": {},
   "outputs": [
    {
     "data": {
      "image/png": "[encoded data removed]",
      "text/plain": [
       "<Figure size 1000x500 with 1 Axes>"
      ]
     },
     "metadata": {},
     "output_type": "display_data"
    }
   ],
   "source": [
    "# Plot Training and Testing Loss\n",
    "plt.figure(figsize=(10,5))\n",
    "plt.plot(range(1, n_epochs+1), train_losses, label='Train Loss')\n",
    "plt.plot(range(1, n_epochs+1), test_losses, label='Test Loss')\n",
    "plt.xlabel('Epoch')\n",
    "plt.ylabel('Loss')\n",
    "plt.title('Training and Testing Loss Over Epochs')\n",
    "plt.legend()\n",
    "plt.grid(True)\n",
    "plt.show()"
   ]
  },
  {
   "cell_type": "code",
   "execution_count": null,
   "id": "8e77b692-93e4-4bc6-bdb2-c9513bb062d3",
   "metadata": {},
   "outputs": [],
   "source": []
  }
 ],
 "metadata": {
  "kernelspec": {
   "display_name": "Python 3 (ipykernel)",
   "language": "python",
   "name": "python3"
  },
  "language_info": {
   "codemirror_mode": {
    "name": "ipython",
    "version": 3
   },
   "file_extension": ".py",
   "mimetype": "text/x-python",
   "name": "python",
   "nbconvert_exporter": "python",
   "pygments_lexer": "ipython3",
   "version": "3.10.14"
  }
 },
 "nbformat": 4,
 "nbformat_minor": 5
}
